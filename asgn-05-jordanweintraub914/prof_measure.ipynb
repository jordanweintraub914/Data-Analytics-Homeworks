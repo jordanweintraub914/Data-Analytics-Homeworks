{
 "cells": [
  {
   "cell_type": "code",
   "execution_count": 1,
   "metadata": {},
   "outputs": [],
   "source": [
    "import pandas as pd\n",
    "import numpy as np\n",
    "import os\n",
    "from tqdm import tqdm     # progress bar on loops\n",
    "from NEAR_regex import NEAR_regex  # copy this file into the asgn folder\n",
    "from bs4 import BeautifulSoup\n",
    "import re\n",
    "from time import sleep\n",
    "\n",
    "#if tqdm issues, run this in terminal or with ! trick\n",
    "#jupyter nbextension enable --py widgetsnbextension\n",
    "#jupyter labextension install @jupyter-widgets/jupyterlab-manager\n",
    "\n",
    "os.makedirs('output',exist_ok=True)"
   ]
  },
  {
   "cell_type": "markdown",
   "metadata": {},
   "source": [
    "## User Note\n",
    "\n",
    "_This file parses the wikipedia pages._\n",
    "- _Parsing 10-Ks requires ONLY ONE CHANGE: Change how `load_me` is defined to refer to the 10-k folder._\n",
    "- _That change produces RADICALLY different measures!_\n",
    "\n",
    "| My measure of | Fraction that aren't zero with wiki pages | Fraction that aren't zero with 10-k pages |\n",
    "| --- | --- | --- |\n",
    "| tax_risks    | 0.003960 |   0.786139 |\n",
    "| tariff_risk  | 0.000000 |  0.225743 |\n",
    "| fincon       | 0.140594 |  0.899010 |\n",
    "| proprietary  | 0.003960 |  0.544554 |\n",
    "\n",
    "HOLY COW! The exact same searches produce radically different stuff. \n",
    "\n",
    "But this shouldn't be surprising: There is a **lot** more info in the 10-K files! The wiki pages are just 86MB on my computer, but the 10-K files are 2.4 GB! As a result, parsing the 10k's took 15 minutes on my computer, whereas the wiki pages are parsed in just 30 seconds.\n",
    "\n",
    "![](https://media.giphy.com/media/gwv52hvs09UBSVyqHn/source.gif)"
   ]
  },
  {
   "cell_type": "markdown",
   "metadata": {},
   "source": [
    "## Defining the searches\n",
    "\n",
    "These searches were defined with a slightly different project in mind, but the general ideas of _**how**_ and _**why**_ these are set up as they are applies:\n",
    "\n",
    "### Tax risk exposure\n",
    "\n",
    "Technology firms are often involved in large amounts of creative accounting to reduce tax bills. To identify when a firm is negatively exposed to possible tax changes, I look for a firm mentioning a \"risk term\" near \"tax\" (or similar) and \"changes\". \n",
    "\n",
    "**HIT:** \"A change to tax policies could negatively affect profits\"\n",
    "\n",
    "**NOT A HIT:** \"A change to tax policies is likely\""
   ]
  },
  {
   "cell_type": "code",
   "execution_count": 2,
   "metadata": {},
   "outputs": [],
   "source": [
    "# this will look for mentions with 25 word gaps maximum\n",
    "tax_risks = ['(risk|risks|could harm|negative|negatively|uncertain)',\n",
    "            '(tax|taxes|taxation)',\n",
    "            '(change|new|law|policy|policies|regulation|regulations)']"
   ]
  },
  {
   "cell_type": "markdown",
   "metadata": {},
   "source": [
    "### Tariffs\n",
    "\n",
    "Technology firms often ship product across international borders. To identify when a firm is negatively exposed to possible tariff changes, I look for a firm mentioning a \"risk term\" near \"tariff\" (or similar) and \"changes\". \n",
    "\n",
    "**HIT:** \"A change to tariff policies could negatively affect profits\"\n",
    "\n",
    "**NOT A HIT:** \"A change to tariff policies is likely\""
   ]
  },
  {
   "cell_type": "code",
   "execution_count": 3,
   "metadata": {},
   "outputs": [],
   "source": [
    "# this will look for mentions with 25 word gaps maximum\n",
    "tariff_search = ['(risk|risks|could harm|negative|negatively)',\n",
    "                '(tariff|tariffs)',\n",
    "                '(change|new|law|policy|policies|regulation|regulations)']"
   ]
  },
  {
   "cell_type": "markdown",
   "metadata": {},
   "source": [
    "### Financial constraints\n",
    "\n",
    "Technology firms tend to be younger and smaller than other public firms. According to published research, young and small firms also tend to be financially constrained.\n",
    "\n",
    "Following [Hoberg and Maksimovic](https://poseidon01.ssrn.com/delivery.php?ID=875082005085007108066003027097109092018052053087053016092066101124083072025114105026038106063111031098097099020098001110068066029018023080043026109080070118114124088008042110092095070091123122124087109120115122022004003119096075106076087081087092093&EXT=pdf), I define firms as financially constrained if a firm discusses \"curtailing\" near \"investment\". The full lists, below, come from the paper."
   ]
  },
  {
   "cell_type": "code",
   "execution_count": 4,
   "metadata": {},
   "outputs": [],
   "source": [
    "# this list comes from page 9 of the WP version of Hoberg and Maksimovic (link above)\n",
    "\n",
    "# allow for partial matches and a max gap of 25 (they use 12, but our text is messier)\n",
    "fin_constraints = ['(delay|abandon|eliminate|curtail|scale back|postpone)',\n",
    "                   '(construction|expansion|acquisition|restructuring|project|research|development|exploration|product|expenditure|manufactur|entry|renovat|growth|activities|capital improvement|capital spend|capital proj|commercial release|business plan|transmitter deployment|opening restaurants)' ]"
   ]
  },
  {
   "cell_type": "markdown",
   "metadata": {},
   "source": [
    "### Proprietary Information Leak Risk\n",
    "\n",
    "A crucial task for technology firms is protecting their IP. Following [Hoberg and Maksimovic](https://poseidon01.ssrn.com/delivery.php?ID=875082005085007108066003027097109092018052053087053016092066101124083072025114105026038106063111031098097099020098001110068066029018023080043026109080070118114124088008042110092095070091123122124087109120115122022004003119096075106076087081087092093&EXT=pdf) again, I define firms worried about IP leaks as those that discuss \"protecting\" near \"trade secrets\" or \"proprietary information\". I could use a larger list, but this definition has been vetted.\n"
   ]
  },
  {
   "cell_type": "code",
   "execution_count": 5,
   "metadata": {},
   "outputs": [],
   "source": [
    "proprietary_information_risks = ['(protect|safeguard)',\n",
    "                                '(trade secret|proprietary information|confidential information)']"
   ]
  },
  {
   "cell_type": "code",
   "execution_count": 6,
   "metadata": {},
   "outputs": [],
   "source": [
    "# add blank new variables for each of the searches\n",
    "\n",
    "sp500 = (pd.read_csv('inputs/sp500_with_url.csv')\n",
    "         .assign(tax_risks = np.nan,\n",
    "                 tariff_risk = np.nan,\n",
    "                 fincon = np.nan,\n",
    "                 proprietary = np.nan,))\n"
   ]
  },
  {
   "cell_type": "markdown",
   "metadata": {},
   "source": [
    "## Loop over and parse/search wiki pages"
   ]
  },
  {
   "cell_type": "code",
   "execution_count": 7,
   "metadata": {},
   "outputs": [
    {
     "name": "stderr",
     "output_type": "stream",
     "text": [
      "100%|████████████████████████████████████████████████████████████████████████████████| 505/505 [00:57<00:00,  8.73it/s]\n"
     ]
    }
   ],
   "source": [
    "for index, row in tqdm(sp500.iterrows(), total=len(sp500)):\n",
    "      \n",
    "    load_me = 'text_files/' + row['Symbol'] + '.html'\n",
    "\n",
    "    if os.path.exists(load_me):\n",
    "        \n",
    "        # open file\n",
    "        with open(load_me,'r',encoding='utf-8') as f:\n",
    "            text = f.read()\n",
    "        \n",
    "        # clean the 10k before searching\n",
    "        lower = BeautifulSoup(text).get_text().lower()\n",
    "        no_punc = re.sub(r'\\W',' ',lower)\n",
    "        cleaned = re.sub(r'\\s+',' ',no_punc).strip()\n",
    "        \n",
    "        # search    \n",
    "        rgx   = NEAR_regex(tax_risks,max_words_between=25)\n",
    "        sp500.loc[index,\"tax_risks\"] = len(re.findall(rgx,cleaned)) \n",
    "        \n",
    "        rgx   = NEAR_regex(tariff_search,max_words_between=25)\n",
    "        sp500.loc[index,\"tariff_risk\"] = len(re.findall(rgx,cleaned)) \n",
    "\n",
    "        rgx   = NEAR_regex(fin_constraints,max_words_between=25,partial=True)\n",
    "        sp500.loc[index,\"fincon\"] = len(re.findall(rgx,cleaned)) \n",
    "\n",
    "        rgx   = NEAR_regex(proprietary_information_risks,max_words_between=25,partial=True)\n",
    "        sp500.loc[index,\"proprietary\"] = len(re.findall(rgx,cleaned)) \n",
    "                "
   ]
  },
  {
   "cell_type": "markdown",
   "metadata": {},
   "source": [
    "## Examining my proposed measures\n",
    "\n",
    "Initial findings: \n",
    "\n",
    "1. The tariff risks search is ill defined for wikipedia pages - **it is always zero.** I'd have to simplify it, probably to a mere discussion of \"tariffs\".\n",
    "2. The proprietary and tax searches also seem to be poorly defined. Only EBAY, Oracle, Amazon, and Exxon show up when you run this, despite the S&P 500 containing many firms that rely on patents and that use aggressive tax management policies:\n",
    "\n",
    "    ```python\n",
    "    sp500.query('(proprietary != 0) | (tax_risks != 0)')\n",
    "    ```\n",
    "    \n",
    "3. 14% (see below) of S&P500 firms have indicators for financial constraints. This is probably not \"too high\" (S&P500 firms should have pretty diverse funding options) or \"too low\" (arguably some of these firms should have a degree of constraint).     "
   ]
  },
  {
   "cell_type": "code",
   "execution_count": 8,
   "metadata": {},
   "outputs": [
    {
     "data": {
      "text/plain": [
       "tax_risks      0.003960\n",
       "tariff_risk    0.000000\n",
       "fincon         0.140594\n",
       "proprietary    0.003960\n",
       "dtype: float64"
      ]
     },
     "execution_count": 8,
     "metadata": {},
     "output_type": "execute_result"
    }
   ],
   "source": [
    "# count the non-zero elements\n",
    "(sp500[['tax_risks','tariff_risk','fincon','proprietary']] > 0).sum() / len(sp500)"
   ]
  },
  {
   "cell_type": "code",
   "execution_count": 9,
   "metadata": {},
   "outputs": [
    {
     "data": {
      "text/html": [
       "<style  type=\"text/css\" >\n",
       "</style><table id=\"T_b77612b7_93b8_11eb_9891_00e04c68012d\" ><thead>    <tr>        <th class=\"blank level0\" ></th>        <th class=\"col_heading level0 col0\" >count</th>        <th class=\"col_heading level0 col1\" >mean</th>        <th class=\"col_heading level0 col2\" >std</th>        <th class=\"col_heading level0 col3\" >min</th>        <th class=\"col_heading level0 col4\" >25%</th>        <th class=\"col_heading level0 col5\" >50%</th>        <th class=\"col_heading level0 col6\" >75%</th>        <th class=\"col_heading level0 col7\" >max</th>    </tr></thead><tbody>\n",
       "                <tr>\n",
       "                        <th id=\"T_b77612b7_93b8_11eb_9891_00e04c68012dlevel0_row0\" class=\"row_heading level0 row0\" >tax_risks</th>\n",
       "                        <td id=\"T_b77612b7_93b8_11eb_9891_00e04c68012drow0_col0\" class=\"data row0 col0\" >504.00</td>\n",
       "                        <td id=\"T_b77612b7_93b8_11eb_9891_00e04c68012drow0_col1\" class=\"data row0 col1\" >0.00</td>\n",
       "                        <td id=\"T_b77612b7_93b8_11eb_9891_00e04c68012drow0_col2\" class=\"data row0 col2\" >0.06</td>\n",
       "                        <td id=\"T_b77612b7_93b8_11eb_9891_00e04c68012drow0_col3\" class=\"data row0 col3\" >0.00</td>\n",
       "                        <td id=\"T_b77612b7_93b8_11eb_9891_00e04c68012drow0_col4\" class=\"data row0 col4\" >0.00</td>\n",
       "                        <td id=\"T_b77612b7_93b8_11eb_9891_00e04c68012drow0_col5\" class=\"data row0 col5\" >0.00</td>\n",
       "                        <td id=\"T_b77612b7_93b8_11eb_9891_00e04c68012drow0_col6\" class=\"data row0 col6\" >0.00</td>\n",
       "                        <td id=\"T_b77612b7_93b8_11eb_9891_00e04c68012drow0_col7\" class=\"data row0 col7\" >1.00</td>\n",
       "            </tr>\n",
       "            <tr>\n",
       "                        <th id=\"T_b77612b7_93b8_11eb_9891_00e04c68012dlevel0_row1\" class=\"row_heading level0 row1\" >tariff_risk</th>\n",
       "                        <td id=\"T_b77612b7_93b8_11eb_9891_00e04c68012drow1_col0\" class=\"data row1 col0\" >504.00</td>\n",
       "                        <td id=\"T_b77612b7_93b8_11eb_9891_00e04c68012drow1_col1\" class=\"data row1 col1\" >0.00</td>\n",
       "                        <td id=\"T_b77612b7_93b8_11eb_9891_00e04c68012drow1_col2\" class=\"data row1 col2\" >0.00</td>\n",
       "                        <td id=\"T_b77612b7_93b8_11eb_9891_00e04c68012drow1_col3\" class=\"data row1 col3\" >0.00</td>\n",
       "                        <td id=\"T_b77612b7_93b8_11eb_9891_00e04c68012drow1_col4\" class=\"data row1 col4\" >0.00</td>\n",
       "                        <td id=\"T_b77612b7_93b8_11eb_9891_00e04c68012drow1_col5\" class=\"data row1 col5\" >0.00</td>\n",
       "                        <td id=\"T_b77612b7_93b8_11eb_9891_00e04c68012drow1_col6\" class=\"data row1 col6\" >0.00</td>\n",
       "                        <td id=\"T_b77612b7_93b8_11eb_9891_00e04c68012drow1_col7\" class=\"data row1 col7\" >0.00</td>\n",
       "            </tr>\n",
       "            <tr>\n",
       "                        <th id=\"T_b77612b7_93b8_11eb_9891_00e04c68012dlevel0_row2\" class=\"row_heading level0 row2\" >fincon</th>\n",
       "                        <td id=\"T_b77612b7_93b8_11eb_9891_00e04c68012drow2_col0\" class=\"data row2 col0\" >504.00</td>\n",
       "                        <td id=\"T_b77612b7_93b8_11eb_9891_00e04c68012drow2_col1\" class=\"data row2 col1\" >0.19</td>\n",
       "                        <td id=\"T_b77612b7_93b8_11eb_9891_00e04c68012drow2_col2\" class=\"data row2 col2\" >0.56</td>\n",
       "                        <td id=\"T_b77612b7_93b8_11eb_9891_00e04c68012drow2_col3\" class=\"data row2 col3\" >0.00</td>\n",
       "                        <td id=\"T_b77612b7_93b8_11eb_9891_00e04c68012drow2_col4\" class=\"data row2 col4\" >0.00</td>\n",
       "                        <td id=\"T_b77612b7_93b8_11eb_9891_00e04c68012drow2_col5\" class=\"data row2 col5\" >0.00</td>\n",
       "                        <td id=\"T_b77612b7_93b8_11eb_9891_00e04c68012drow2_col6\" class=\"data row2 col6\" >0.00</td>\n",
       "                        <td id=\"T_b77612b7_93b8_11eb_9891_00e04c68012drow2_col7\" class=\"data row2 col7\" >6.00</td>\n",
       "            </tr>\n",
       "            <tr>\n",
       "                        <th id=\"T_b77612b7_93b8_11eb_9891_00e04c68012dlevel0_row3\" class=\"row_heading level0 row3\" >proprietary</th>\n",
       "                        <td id=\"T_b77612b7_93b8_11eb_9891_00e04c68012drow3_col0\" class=\"data row3 col0\" >504.00</td>\n",
       "                        <td id=\"T_b77612b7_93b8_11eb_9891_00e04c68012drow3_col1\" class=\"data row3 col1\" >0.00</td>\n",
       "                        <td id=\"T_b77612b7_93b8_11eb_9891_00e04c68012drow3_col2\" class=\"data row3 col2\" >0.06</td>\n",
       "                        <td id=\"T_b77612b7_93b8_11eb_9891_00e04c68012drow3_col3\" class=\"data row3 col3\" >0.00</td>\n",
       "                        <td id=\"T_b77612b7_93b8_11eb_9891_00e04c68012drow3_col4\" class=\"data row3 col4\" >0.00</td>\n",
       "                        <td id=\"T_b77612b7_93b8_11eb_9891_00e04c68012drow3_col5\" class=\"data row3 col5\" >0.00</td>\n",
       "                        <td id=\"T_b77612b7_93b8_11eb_9891_00e04c68012drow3_col6\" class=\"data row3 col6\" >0.00</td>\n",
       "                        <td id=\"T_b77612b7_93b8_11eb_9891_00e04c68012drow3_col7\" class=\"data row3 col7\" >1.00</td>\n",
       "            </tr>\n",
       "    </tbody></table>"
      ],
      "text/plain": [
       "<pandas.io.formats.style.Styler at 0x23a60546130>"
      ]
     },
     "execution_count": 9,
     "metadata": {},
     "output_type": "execute_result"
    }
   ],
   "source": [
    "sp500[['tax_risks','tariff_risk','fincon','proprietary']].describe().T.style.format('{:,.2f}')"
   ]
  },
  {
   "cell_type": "markdown",
   "metadata": {},
   "source": [
    "## Saving the sample for the analysis file"
   ]
  },
  {
   "cell_type": "code",
   "execution_count": 10,
   "metadata": {},
   "outputs": [],
   "source": [
    "ccm = pd.read_stata('https://github.com/LeDataSciFi/ledatascifi-2021/blob/main/data/2019%20ccm_cleaned.dta?raw=true')"
   ]
  },
  {
   "cell_type": "code",
   "execution_count": 11,
   "metadata": {},
   "outputs": [],
   "source": [
    "(\n",
    "    sp500.merge(ccm,how='left',\n",
    "                left_on='Symbol',right_on='tic',\n",
    "                indicator=True, validate='one_to_one')\n",
    "    .to_csv('output/sp500_accting_plus_textrisks.csv',\n",
    "            index=False)\n",
    ")    "
   ]
  }
 ],
 "metadata": {
  "kernelspec": {
   "display_name": "Python 3",
   "language": "python",
   "name": "python3"
  },
  "language_info": {
   "codemirror_mode": {
    "name": "ipython",
    "version": 3
   },
   "file_extension": ".py",
   "mimetype": "text/x-python",
   "name": "python",
   "nbconvert_exporter": "python",
   "pygments_lexer": "ipython3",
   "version": "3.8.5"
  }
 },
 "nbformat": 4,
 "nbformat_minor": 4
}

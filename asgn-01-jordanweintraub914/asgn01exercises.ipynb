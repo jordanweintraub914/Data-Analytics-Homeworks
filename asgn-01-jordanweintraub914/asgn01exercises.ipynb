{
 "cells": [
  {
   "cell_type": "markdown",
   "metadata": {},
   "source": [
    "# ASGN 01\n",
    "\n",
    "I'm going to use this to explore writing python code, Markdown text blocks, and (possibly) more.\n",
    "\n",
    "Remember, there are usually MANY ways to achieve things programatically. "
   ]
  },
  {
   "cell_type": "markdown",
   "metadata": {},
   "source": [
    "There is a simple csv file in the data subfolder of the repo. \n",
    "\n",
    "## Q1. Load it and print the first 5 rows. "
   ]
  },
  {
   "cell_type": "markdown",
   "metadata": {},
   "source": [
    "## Q2. What is the average alcohol content"
   ]
  },
  {
   "cell_type": "code",
   "execution_count": 1,
   "metadata": {},
   "outputs": [],
   "source": [
    "# work on exercise prompt #1 here\n",
    "# HINT: Use pandas\n",
    "\n",
    "import pandas as pd"
   ]
  },
  {
   "cell_type": "code",
   "execution_count": 2,
   "metadata": {},
   "outputs": [
    {
     "data": {
      "text/html": [
       "<div>\n",
       "<style scoped>\n",
       "    .dataframe tbody tr th:only-of-type {\n",
       "        vertical-align: middle;\n",
       "    }\n",
       "\n",
       "    .dataframe tbody tr th {\n",
       "        vertical-align: top;\n",
       "    }\n",
       "\n",
       "    .dataframe thead th {\n",
       "        text-align: right;\n",
       "    }\n",
       "</style>\n",
       "<table border=\"1\" class=\"dataframe\">\n",
       "  <thead>\n",
       "    <tr style=\"text-align: right;\">\n",
       "      <th></th>\n",
       "      <th>Class</th>\n",
       "      <th>Alcohol</th>\n",
       "      <th>Malic acid</th>\n",
       "      <th>Ash</th>\n",
       "      <th>Alcalinity of ash</th>\n",
       "      <th>Magnesium</th>\n",
       "      <th>Total phenols</th>\n",
       "      <th>Flavanoids</th>\n",
       "      <th>Nonflavanoid phenols</th>\n",
       "      <th>Proanthocyanins</th>\n",
       "      <th>Color intensity</th>\n",
       "      <th>Hue</th>\n",
       "      <th>OD280/OD315</th>\n",
       "      <th>Proline</th>\n",
       "    </tr>\n",
       "  </thead>\n",
       "  <tbody>\n",
       "    <tr>\n",
       "      <th>0</th>\n",
       "      <td>1</td>\n",
       "      <td>14.23</td>\n",
       "      <td>1.71</td>\n",
       "      <td>2.43</td>\n",
       "      <td>15.6</td>\n",
       "      <td>127</td>\n",
       "      <td>2.80</td>\n",
       "      <td>3.06</td>\n",
       "      <td>0.28</td>\n",
       "      <td>2.29</td>\n",
       "      <td>5.64</td>\n",
       "      <td>1.04</td>\n",
       "      <td>3.92</td>\n",
       "      <td>1065</td>\n",
       "    </tr>\n",
       "    <tr>\n",
       "      <th>1</th>\n",
       "      <td>1</td>\n",
       "      <td>13.20</td>\n",
       "      <td>1.78</td>\n",
       "      <td>2.14</td>\n",
       "      <td>11.2</td>\n",
       "      <td>100</td>\n",
       "      <td>2.65</td>\n",
       "      <td>2.76</td>\n",
       "      <td>0.26</td>\n",
       "      <td>1.28</td>\n",
       "      <td>4.38</td>\n",
       "      <td>1.05</td>\n",
       "      <td>3.40</td>\n",
       "      <td>1050</td>\n",
       "    </tr>\n",
       "    <tr>\n",
       "      <th>2</th>\n",
       "      <td>1</td>\n",
       "      <td>13.16</td>\n",
       "      <td>2.36</td>\n",
       "      <td>2.67</td>\n",
       "      <td>18.6</td>\n",
       "      <td>101</td>\n",
       "      <td>2.80</td>\n",
       "      <td>3.24</td>\n",
       "      <td>0.30</td>\n",
       "      <td>2.81</td>\n",
       "      <td>5.68</td>\n",
       "      <td>1.03</td>\n",
       "      <td>3.17</td>\n",
       "      <td>1185</td>\n",
       "    </tr>\n",
       "    <tr>\n",
       "      <th>3</th>\n",
       "      <td>1</td>\n",
       "      <td>14.37</td>\n",
       "      <td>1.95</td>\n",
       "      <td>2.50</td>\n",
       "      <td>16.8</td>\n",
       "      <td>113</td>\n",
       "      <td>3.85</td>\n",
       "      <td>3.49</td>\n",
       "      <td>0.24</td>\n",
       "      <td>2.18</td>\n",
       "      <td>7.80</td>\n",
       "      <td>0.86</td>\n",
       "      <td>3.45</td>\n",
       "      <td>1480</td>\n",
       "    </tr>\n",
       "    <tr>\n",
       "      <th>4</th>\n",
       "      <td>1</td>\n",
       "      <td>13.24</td>\n",
       "      <td>2.59</td>\n",
       "      <td>2.87</td>\n",
       "      <td>21.0</td>\n",
       "      <td>118</td>\n",
       "      <td>2.80</td>\n",
       "      <td>2.69</td>\n",
       "      <td>0.39</td>\n",
       "      <td>1.82</td>\n",
       "      <td>4.32</td>\n",
       "      <td>1.04</td>\n",
       "      <td>2.93</td>\n",
       "      <td>735</td>\n",
       "    </tr>\n",
       "  </tbody>\n",
       "</table>\n",
       "</div>"
      ],
      "text/plain": [
       "   Class  Alcohol  Malic acid   Ash  Alcalinity of ash  Magnesium  \\\n",
       "0      1    14.23        1.71  2.43               15.6        127   \n",
       "1      1    13.20        1.78  2.14               11.2        100   \n",
       "2      1    13.16        2.36  2.67               18.6        101   \n",
       "3      1    14.37        1.95  2.50               16.8        113   \n",
       "4      1    13.24        2.59  2.87               21.0        118   \n",
       "\n",
       "   Total phenols  Flavanoids  Nonflavanoid phenols  Proanthocyanins  \\\n",
       "0           2.80        3.06                  0.28             2.29   \n",
       "1           2.65        2.76                  0.26             1.28   \n",
       "2           2.80        3.24                  0.30             2.81   \n",
       "3           3.85        3.49                  0.24             2.18   \n",
       "4           2.80        2.69                  0.39             1.82   \n",
       "\n",
       "   Color intensity   Hue  OD280/OD315  Proline  \n",
       "0             5.64  1.04         3.92     1065  \n",
       "1             4.38  1.05         3.40     1050  \n",
       "2             5.68  1.03         3.17     1185  \n",
       "3             7.80  0.86         3.45     1480  \n",
       "4             4.32  1.04         2.93      735  "
      ]
     },
     "execution_count": 2,
     "metadata": {},
     "output_type": "execute_result"
    }
   ],
   "source": [
    "data = pd.read_csv('data/wine.csv') #assign1 is root folder so need data/ to find the dataset(relative path environment)\n",
    "data.head()"
   ]
  },
  {
   "cell_type": "code",
   "execution_count": 3,
   "metadata": {},
   "outputs": [
    {
     "data": {
      "text/plain": [
       "13.000617977528083"
      ]
     },
     "execution_count": 3,
     "metadata": {},
     "output_type": "execute_result"
    }
   ],
   "source": [
    "# work on exercise prompt #2 here\n",
    "\n",
    "Alcohol = data['Alcohol']\n",
    "avg = sum(Alcohol)/len(Alcohol) #sum and len\n",
    "avg"
   ]
  },
  {
   "cell_type": "markdown",
   "metadata": {},
   "source": [
    "## Q3. Function #1\n",
    "Write a function that takes a string as an argument and returns the number of capital letters in the stringy\n"
   ]
  },
  {
   "cell_type": "code",
   "execution_count": 4,
   "metadata": {},
   "outputs": [
    {
     "name": "stdout",
     "output_type": "stream",
     "text": [
      "2\n",
      "3\n",
      "12\n"
     ]
    }
   ],
   "source": [
    "#assuming you mean string and not stringy \n",
    "def count_capitals(inString):\n",
    "    #####################################################\n",
    "    # work on the exercise prompt here\n",
    "    count_capitals = 0\n",
    "    \n",
    "    for letter in inString:\n",
    "        if letter.isupper():\n",
    "            count_capitals += 1 \n",
    "    return count_capitals\n",
    "    \n",
    "    #####################################################\n",
    "\n",
    "print(count_capitals('Go Tigers!')) # leave this, it's a test unit\n",
    "print(count_capitals('Hail to the Victors Valiant!')) # leave this, it's a test unit\n",
    "print(count_capitals(\"LET'S GO DEVILS!\")) # leave this, it's a test unit\n",
    "    "
   ]
  },
  {
   "cell_type": "markdown",
   "metadata": {},
   "source": [
    "## Q4. Function #2\n",
    "\n",
    "Write a function that takes two sequences, `seq1` and `seq2`, as arguments and returns the number of distinct elements in both. By \"sequence\" we mean a list, a tuple or a string.\n",
    "\n",
    "For example: \"ABC\" and \"BBC\" would return 2 (\"B\" and \"C\" are in each).\n",
    "\n",
    "Do not count duplicates!"
   ]
  },
  {
   "cell_type": "code",
   "execution_count": 5,
   "metadata": {},
   "outputs": [
    {
     "name": "stdout",
     "output_type": "stream",
     "text": [
      "3\n",
      "4\n",
      "0\n"
     ]
    }
   ],
   "source": [
    "def sequence_overlap_count(seq1,seq2):\n",
    "    #####################################################\n",
    "    # work on the exercise prompt here\n",
    "    sequence_overlap_count = 0 \n",
    "    \n",
    "    for char in set(seq1):       #set function removes the duplicates \n",
    "        for Char in set(seq2):\n",
    "            if char == Char:\n",
    "                sequence_overlap_count += 1 \n",
    "    return sequence_overlap_count\n",
    "\n",
    "    \n",
    "    #####################################################\n",
    "    \n",
    "print(sequence_overlap_count((1,2,3),[1,2,3])) # leave this, it's a test unit\n",
    "print(sequence_overlap_count('hey there','batter up')) # leave this, it's a test unit\n",
    "print(sequence_overlap_count('j',['jet','sweep'])) # leave this, it's a test unit. answer should be 0.\n"
   ]
  },
  {
   "cell_type": "markdown",
   "metadata": {},
   "source": [
    "## Q5. Function #3\n",
    "Write a function that counts how many of the pairs have two even numbers."
   ]
  },
  {
   "cell_type": "code",
   "execution_count": 6,
   "metadata": {},
   "outputs": [
    {
     "data": {
      "text/plain": [
       "2"
      ]
     },
     "execution_count": 6,
     "metadata": {},
     "output_type": "execute_result"
    }
   ],
   "source": [
    "def both_even(list_of_pairs):\n",
    "    #####################################################\n",
    "    # work on the exercise prompt here\n",
    "    both_even = 0\n",
    "    \n",
    "    for pair in list_of_pairs: \n",
    "        if (pair[0] % 2 == 0) and (pair[1] % 2 ==0):\n",
    "            both_even += 1\n",
    "    return both_even\n",
    "\n",
    "    #####################################################\n",
    "    \n",
    "pairs = ((2, 5), (4, 2), (9, 8), (12, 10)) # leave this, it's a test unit\n",
    "both_even(pairs) # leave this, it's a test unit\n"
   ]
  },
  {
   "cell_type": "markdown",
   "metadata": {},
   "source": [
    "## Q6. Function #4\n",
    "\n",
    "Given a list, return the sublist where each element is divisible by 3. You must\n",
    "- Use a for-loop\n",
    "- Use an if-else block"
   ]
  },
  {
   "cell_type": "code",
   "execution_count": 7,
   "metadata": {},
   "outputs": [
    {
     "data": {
      "text/plain": [
       "[15, 36, 57, 78, 99]"
      ]
     },
     "execution_count": 7,
     "metadata": {},
     "output_type": "execute_result"
    }
   ],
   "source": [
    "def mod_3_sublist(inList):\n",
    "    # work on the exercise prompt here\n",
    "    mod_3_sublist = []\n",
    "    for num in inList:\n",
    "        if num % 3 == 0:\n",
    "            mod_3_sublist.append(num)\n",
    "        else: \n",
    "            'ignore'\n",
    "    return mod_3_sublist\n",
    "    \n",
    "    \n",
    "practice = list(range(1, 100, 7))\n",
    "mod_3_sublist(practice) # leave this, it's a test unit"
   ]
  },
  {
   "cell_type": "markdown",
   "metadata": {},
   "source": [
    "Optional advanced version (no credit): Can you do that without the for-loop and if-else block?"
   ]
  },
  {
   "cell_type": "code",
   "execution_count": 8,
   "metadata": {},
   "outputs": [
    {
     "data": {
      "text/plain": [
       "[15, 36, 57, 78, 99]"
      ]
     },
     "execution_count": 8,
     "metadata": {},
     "output_type": "execute_result"
    }
   ],
   "source": [
    "#STILL MUST COMPLETE \n",
    "def mod_3_sublist(inList):\n",
    "    # work on the exercise prompt here\n",
    "    \n",
    "    return([num for num in inList if num % 3 ==0])\n",
    "    \n",
    "practice = list(range(1, 100, 7))\n",
    "mod_3_sublist(practice) # leave this, it's a test unit"
   ]
  },
  {
   "cell_type": "markdown",
   "metadata": {},
   "source": [
    "## Q7. \n",
    "What is the sum of the last 5 elements of `list(range(0,100,3))`?"
   ]
  },
  {
   "cell_type": "code",
   "execution_count": 9,
   "metadata": {},
   "outputs": [
    {
     "data": {
      "text/plain": [
       "465"
      ]
     },
     "execution_count": 9,
     "metadata": {},
     "output_type": "execute_result"
    }
   ],
   "source": [
    "mylist = list(range(0,100,3))\n",
    "\n",
    "######################################\n",
    "# work here\n",
    "newlist = mylist[-5:]\n",
    "#newlist\n",
    "sum(newlist)\n",
    "######################################\n"
   ]
  },
  {
   "cell_type": "markdown",
   "metadata": {},
   "source": [
    "## Q8. \n",
    "What is the sum of the odd numbered element (where the index is odd, not necessarily the content of the element) of  `list(range(0,100,3))`?"
   ]
  },
  {
   "cell_type": "code",
   "execution_count": 10,
   "metadata": {},
   "outputs": [
    {
     "data": {
      "text/plain": [
       "867"
      ]
     },
     "execution_count": 10,
     "metadata": {},
     "output_type": "execute_result"
    }
   ],
   "source": [
    "#did you mean sum of odd numbered elements? (elements plurar, not element)\n",
    "\n",
    "mylist = list(range(0,100,3))\n",
    "######################################\n",
    "# work here\n",
    "oddlist = mylist[1::2]\n",
    "#oddlist\n",
    "sum(oddlist)\n",
    "\n",
    "######################################\n"
   ]
  },
  {
   "cell_type": "markdown",
   "metadata": {},
   "source": [
    "## Q9. The next cell is Markdown, but it should be python. \n",
    "\n",
    "Convert it, then execute it."
   ]
  },
  {
   "cell_type": "code",
   "execution_count": 11,
   "metadata": {},
   "outputs": [
    {
     "name": "stdout",
     "output_type": "stream",
     "text": [
      "4\n",
      "5\n",
      "6\n",
      "7\n",
      "8\n",
      "9\n"
     ]
    }
   ],
   "source": [
    "for i in range(4,10): \n",
    "    print(i)"
   ]
  },
  {
   "cell_type": "markdown",
   "metadata": {},
   "source": [
    "## Q10. \n",
    "\n",
    "Save this to a csv file, and call it \"temp.csv\". The file should be six lines long."
   ]
  },
  {
   "cell_type": "code",
   "execution_count": 12,
   "metadata": {},
   "outputs": [],
   "source": [
    "an_intermediate_dataset = [['team','opinion'],\n",
    "                          ['eagles','good'],\n",
    "                          ['cowboys','trash'],\n",
    "                          ['giants','double trash'],\n",
    "                          ['patriots','most trash'],\n",
    "                          ['lions','who cares-super irrelevant']]\n",
    "\n",
    "df = pd.DataFrame(an_intermediate_dataset)\n",
    "\n",
    "df.to_csv('temp.csv')"
   ]
  }
 ],
 "metadata": {
  "kernelspec": {
   "display_name": "Python 3",
   "language": "python",
   "name": "python3"
  },
  "language_info": {
   "codemirror_mode": {
    "name": "ipython",
    "version": 3
   },
   "file_extension": ".py",
   "mimetype": "text/x-python",
   "name": "python",
   "nbconvert_exporter": "python",
   "pygments_lexer": "ipython3",
   "version": "3.7.9"
  }
 },
 "nbformat": 4,
 "nbformat_minor": 4
}

{
 "cells": [
  {
   "cell_type": "markdown",
   "metadata": {},
   "source": [
    "Peer review form\n",
    "\n",
    "https://forms.gle/Nou31utuFUxadzf37"
   ]
  },
  {
   "cell_type": "markdown",
   "metadata": {},
   "source": [
    "---\n",
    "\n",
    "## My answers\n",
    "\n",
    "### Your EDA summary should include AT LEAST this:\n",
    "- N=1941. \n",
    "- The unit of observation is house sales, \n",
    "- from 2006-2008. \n",
    "\n",
    "But it should go much farther than this. Finding variables with missing values and outliers should be quite easy, and beyond that, there are a lot of creative ways you should consider manipulating variables. \n",
    "\n",
    "### Regressions"
   ]
  },
  {
   "cell_type": "code",
   "execution_count": 1,
   "metadata": {},
   "outputs": [
    {
     "name": "stdout",
     "output_type": "stream",
     "text": [
      "                        OLS Regressions of Interest Rate\n",
      "================================================================================\n",
      "                          m1           m2         m3       m4      m5      m6   \n",
      "--------------------------------------------------------------------------------\n",
      "Intercept            40435.21*** -866085.93*** 11.33*** 6.62*** 22.29   12.02***\n",
      "                     (4506.89)   (31862.17)    (0.02)   (0.16)  (22.94) (0.02)  \n",
      "v_1st_Flr_SF         121.95***                 0.00***                          \n",
      "                     (3.67)                    (0.00)                           \n",
      "l_1st_Flr_SF                     149632.27***           0.77***                 \n",
      "                                 (4543.94)              (0.02)                  \n",
      "v_Yr_Sold                                                       -0.01           \n",
      "                                                                (0.01)          \n",
      "C(v_Yr_Sold)[T.2007]                                                    0.03    \n",
      "                                                                        (0.02)  \n",
      "C(v_Yr_Sold)[T.2008]                                                    -0.01   \n",
      "                                                                        (0.02)  \n",
      "R-squared            0.36        0.36          0.35     0.38    0.00    0.00    \n",
      "R-squared Adj.       0.36        0.36          0.35     0.38    -0.00   0.00    \n",
      "No. observations     1,941       1,941         1,941    1,941   1,941   1,941   \n",
      "================================================================================\n",
      "Standard errors in parentheses.\n",
      "* p<.1, ** p<.05, ***p<.01\n",
      "Model 7 is not showing many variables.\n"
     ]
    }
   ],
   "source": [
    "import pandas as pd\n",
    "import numpy as np\n",
    "from statsmodels.formula.api import ols as sm_ols\n",
    "from statsmodels.iolib.summary2 import summary_col # nicer tables\n",
    "\n",
    "\n",
    "housing = (pd\n",
    "           .read_csv('input_data2/housing_train.csv')\n",
    "           .assign(TotSF = lambda x: x.v_Total_Bsmt_SF + x.v_Gr_Liv_Area,\n",
    "                         l_salePrice = lambda x:np.log(x['v_SalePrice']),\n",
    "                         l_TotSF =  lambda x: np.log(x.TotSF)  ,\n",
    "                         l_1st_Flr_SF =  lambda x: np.log(x.v_1st_Flr_SF)  ,\n",
    "                         l_garage  =  lambda x: np.log(1+x.v_Garage_Area),\n",
    "                         l_base  =  lambda x: np.log(1+x.v_Total_Bsmt_SF),\n",
    "                         l_lot = lambda x: np.log(1+x.v_Lot_Area), \n",
    "                         age =  lambda x: x.v_Yr_Sold - x.v_Year_Built\n",
    "                        )\n",
    "          )\n",
    "\n",
    "m1 = sm_ols('v_SalePrice ~ v_1st_Flr_SF  ', data=housing).fit()\n",
    "m2 = sm_ols('v_SalePrice ~ l_1st_Flr_SF  ', data=housing).fit()\n",
    "m3 = sm_ols('l_salePrice ~ v_1st_Flr_SF  ', data=housing).fit()\n",
    "m4 = sm_ols('l_salePrice ~ l_1st_Flr_SF  ', data=housing).fit()\n",
    "m5 = sm_ols('l_salePrice ~ v_Yr_Sold  ', data=housing).fit()\n",
    "m6 = sm_ols('l_salePrice ~ C(v_Yr_Sold)  ', data=housing).fit()\n",
    "\n",
    "# # format extra stats for the regression table\n",
    "info_dict={'No. observations' : lambda x: f\"{int(x.nobs):d}\"}\n",
    "info_dict={'No. observations' : lambda x: \"{:,.0f}\".format(x.nobs)}\n",
    "\n",
    "# print out multiple regression results at once\n",
    "table = summary_col(results=[m1,m2,m3,m4,m5,m6],\n",
    "                    float_format='%0.2f',\n",
    "                    stars = True,\n",
    "                    model_names=['m1','m2','m3','m4','m5','m6'],\n",
    "                    info_dict=info_dict,\n",
    "                    regressor_order=['Intercept','v_1st_Flr_SF','l_1st_Flr_SF','v_Yr_Sold',\n",
    "                                    'C(v_Yr_Sold)[T.2007]','C(v_Yr_Sold)[T.2008]',\n",
    "                                    'l_TotSF','l_lot'],\n",
    "                   )\n",
    "table.add_title('OLS Regressions of Interest Rate')\n",
    "print(table)\n",
    "print('Model 7 is not showing many variables.')\n"
   ]
  },
  {
   "cell_type": "markdown",
   "metadata": {},
   "source": [
    "Written answers:\n",
    "\n",
    "1. List $\\beta_1$ for Models 1-6 to make it easier on your graders.\n",
    "    - See above\n",
    "1. Interpret $\\beta_1$ in Model 2. \n",
    "    - A 1% increase in first floor square footage is associated with sales prices that are \\$1,496 dollars higher, all else equal.\n",
    "1. Interpret $\\beta_1$ in Model 3. \n",
    "    - A 1 st ft increase in first floor square footage is associated with sales prices that are 0.06% higher, all else equal.\n",
    "(0.06% is the right amount!) Not 0.0006%. \n",
    "    - I had to print out the model with more decimal points to figure that out. \n",
    "1. Of models 1-4, which do you think best explains the data and why?\n",
    "    - Model 4 has the highest R2 and Adj R2\n",
    "1. Interpret $\\beta_1$ In Model 5\n",
    "    - Mechanical version: A 1 unit increase in year is assoc with sales prices that are 1% lower, all else equal. (1%, not 0.01%). \n",
    "(I.e. Sales prices declined by 1% each year, on average, in this sample.)\n",
    "1. Interpret $\\alpha$ and $\\beta_1$ in Model 6\n",
    "    - Alpha: the average log price in 2006 is 12.02. \n",
    "    - Beta1: The average log price in 2007 is 3% higher than 2006. \n",
    "1. Why is the R2 of Model 6 higher than the R2 of Model 5?\n",
    "    - Model 5 models the average price over time as a strict line with a slope. Model 6 *can* be a line, but it can also be any sequence of averages. Thus, model 6 is more flexible. \n",
    "1. Speculate (not graded): Could you use the specification of Model 6 in a predictive regression? How about Model 5?\n",
    "    - Model 6: **Not well! What if your model has to be applied to a home sale in 2009? You can't estimate a beta on it because there is no 2009 observations in your sample! So year=2007 will be 0, and year=2008 will be 0. So the 2009 sales will get 2006 average prices as the predicted value!**\n",
    "    - Model 5: Yes. (Predictive power TBD.) If the year is 2009, the predicted log price is 22-2009*(-0.01).\n"
   ]
  }
 ],
 "metadata": {
  "kernelspec": {
   "display_name": "Python 3",
   "language": "python",
   "name": "python3"
  },
  "language_info": {
   "codemirror_mode": {
    "name": "ipython",
    "version": 3
   },
   "file_extension": ".py",
   "mimetype": "text/x-python",
   "name": "python",
   "nbconvert_exporter": "python",
   "pygments_lexer": "ipython3",
   "version": "3.8.5"
  }
 },
 "nbformat": 4,
 "nbformat_minor": 4
}

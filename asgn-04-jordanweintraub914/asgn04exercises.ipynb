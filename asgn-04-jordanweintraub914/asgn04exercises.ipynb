{
 "cells": [
  {
   "cell_type": "markdown",
   "metadata": {},
   "source": [
    "# Assignment 4: Merging\n",
    "\n",
    "Related text: https://ledatascifi.github.io/ledatascifi-2021/content/03/05b_merging.html"
   ]
  },
  {
   "cell_type": "code",
   "execution_count": 1,
   "metadata": {},
   "outputs": [],
   "source": [
    "import pandas as pd\n",
    "import numpy as np\n",
    "import matplotlib.pyplot as plt\n",
    "import pandas_datareader as pdr\n",
    "import seaborn as sns\n",
    "# import statsmodels.api as sm"
   ]
  },
  {
   "cell_type": "markdown",
   "metadata": {},
   "source": [
    "## PART 1\n",
    "\n",
    "Insert cell(s) below this one as needed to finish this Part.\n",
    "\n",
    "Load the following two datasets and answer these questions. Assume that the French data is the \"left\" dataset and the stock data is the \"right\" dataset. \n",
    "\n",
    "Q1-Q9:\n",
    "1. How many observations are there in `ff` data?\n",
    "1. How many observations are there in `crsp` data?\n",
    "4. After an inner merge?\n",
    "1. How many observations are there after a left merge?\n",
    "2. After a right merge? \n",
    "3. After an outer merge? \n",
    "1. Why isn't the answer to Q4 and Q5 the same?\n",
    "1. Is this a 1:1, 1:M, M:1, or M:M merge?\n",
    "\n",
    "Remember: Specify `how`, `on`, `indicator=True`, and `validate` on each merge!"
   ]
  },
  {
   "cell_type": "code",
   "execution_count": 2,
   "metadata": {},
   "outputs": [],
   "source": [
    "ff = pdr.get_data_famafrench('F-F_Research_Data_5_Factors_2x3_daily',start=1980,end=2010)[0] # the [0] is because the imported obect is a dictionary, and key=0 is the dataframe\n",
    "ff = ff.reset_index().rename(columns={\"Mkt-RF\":\"mkt_excess\", \"Date\":\"date\"})\n",
    "crsp = pd.read_stata('https://github.com/LeDataSciFi/ledatascifi-2021/blob/main/data/3firm_ret_1990_2020.dta?raw=true')\n",
    "crsp['ret'] = crsp['ret']*100 # convert to precentage to match FF's convention on scaling\n"
   ]
  },
  {
   "cell_type": "code",
   "execution_count": 3,
   "metadata": {},
   "outputs": [
    {
     "name": "stdout",
     "output_type": "stream",
     "text": [
      "1) There are 7571 observations in ff dataset\n"
     ]
    }
   ],
   "source": [
    "ff\n",
    "ff.describe() #shows count\n",
    "ff.index #shows \n",
    "len(ff) #shows count\n",
    "print('1) There are ' + str(len(ff)) + ' observations in ff dataset')"
   ]
  },
  {
   "cell_type": "code",
   "execution_count": 4,
   "metadata": {},
   "outputs": [
    {
     "name": "stdout",
     "output_type": "stream",
     "text": [
      "2) There are 30236 observations in crsp dataset\n"
     ]
    }
   ],
   "source": [
    "crsp\n",
    "crsp.index\n",
    "len(crsp)\n",
    "print('2) There are ' + str(len(crsp)) + ' observations in crsp dataset')"
   ]
  },
  {
   "cell_type": "code",
   "execution_count": 5,
   "metadata": {},
   "outputs": [
    {
     "name": "stdout",
     "output_type": "stream",
     "text": [
      "3) There are 20172 observations in merged dataset\n"
     ]
    }
   ],
   "source": [
    "Merged_inner = pd.merge(ff,crsp,how='inner',on='date',indicator=True,validate='one_to_many')\n",
    "Merged_inner\n",
    "Merged_inner.describe()\n",
    "Merged_inner.index\n",
    "len(Merged_inner)\n",
    "print('3) There are ' + str(len(Merged_inner)) + ' observations in merged dataset')"
   ]
  },
  {
   "cell_type": "code",
   "execution_count": 6,
   "metadata": {},
   "outputs": [
    {
     "name": "stdout",
     "output_type": "stream",
     "text": [
      "4) There are 22700 observations in merged dataset\n"
     ]
    }
   ],
   "source": [
    "Merged_left = pd.merge(ff,crsp, how='left',on='date',indicator=True,validate='one_to_many')\n",
    "Merged_left\n",
    "Merged_left.describe()\n",
    "Merged_left.index\n",
    "len(Merged_left)\n",
    "print('4) There are ' + str(len(Merged_left)) + ' observations in merged dataset')"
   ]
  },
  {
   "cell_type": "code",
   "execution_count": 7,
   "metadata": {},
   "outputs": [
    {
     "name": "stdout",
     "output_type": "stream",
     "text": [
      "5) There are 30236 observations in merged dataset\n"
     ]
    }
   ],
   "source": [
    "Merged_right = pd.merge(ff,crsp, how='right',on='date',indicator=True,validate='one_to_many')\n",
    "Merged_right\n",
    "Merged_right.describe()\n",
    "Merged_right.index\n",
    "len(Merged_right)\n",
    "print('5) There are ' + str(len(Merged_right)) + ' observations in merged dataset')"
   ]
  },
  {
   "cell_type": "code",
   "execution_count": 8,
   "metadata": {},
   "outputs": [
    {
     "name": "stdout",
     "output_type": "stream",
     "text": [
      "6) There are 32764 observations in merged dataset\n"
     ]
    }
   ],
   "source": [
    "Merged_outer = pd.merge(ff,crsp, how='outer',on='date',indicator=True,validate='one_to_many')\n",
    "Merged_outer\n",
    "Merged_outer.describe()\n",
    "Merged_outer.index\n",
    "len(Merged_outer)\n",
    "print('6) There are ' + str(len(Merged_outer)) + ' observations in merged dataset')"
   ]
  },
  {
   "cell_type": "markdown",
   "metadata": {},
   "source": [
    "7)  Both are joined on the the date key (ff from 1980 to 2009, crsp from 1990 to 2019. The crsp dataset has a column of stocks so each row must account for an individual stock. \n",
    "    With ff, all values are recorded daily. When we merge on the left, we have null values for each firm from 1980-1990 and only need to take the daily values once (as opposed to each firm).\n",
    "    The difference in observations equals the number of firms observed times the number of recorded trading days from 1980 to 1990\n",
    "\n"
   ]
  },
  {
   "cell_type": "markdown",
   "metadata": {},
   "source": [
    "8) This is techincally a 1:M merge (crsp dataset repeats merge key (date) for each stock (4 times))\n",
    "- Note: Running it as a M:M also works even though it is a 1:M merge \n",
    "    - Can see this after you get the same results by running: \n",
    "``` pd.merge(ff,crsp,validate='many_to_many') ```\n",
    "         Versus \n",
    "``` pd.merge(ff,crsp,validate='one_to_many')```\n",
    "    "
   ]
  },
  {
   "cell_type": "markdown",
   "metadata": {},
   "source": [
    "## PART 2: Creating variables around a merge \n",
    "\n",
    "Insert cell(s) below this one as needed to finish this Part.\n",
    "\n",
    "Q9: Suppose you're analyzing the stock returns in the CRSP dataset. Add the FF variables to it. Then add a variable dataset that equals \"the variance of the excess return on the market for the year\" for each firm year. (These sentences are enough to pick which \"how\" option to choose.)  `describe()` the crsp dataset after you add the new variables - but you only need to describe `'ret','mkt_excess', 'SMB', 'HML'` and the new variance variable.\n",
    "\n",
    "Note: You don't need to \"annualize\" the variance because the resulting data is daily.\n",
    "\n",
    "HINT: If you get a mean of 1.334374 for the variance variable, that is wrong."
   ]
  },
  {
   "cell_type": "code",
   "execution_count": 9,
   "metadata": {},
   "outputs": [
    {
     "data": {
      "text/html": [
       "<div>\n",
       "<style scoped>\n",
       "    .dataframe tbody tr th:only-of-type {\n",
       "        vertical-align: middle;\n",
       "    }\n",
       "\n",
       "    .dataframe tbody tr th {\n",
       "        vertical-align: top;\n",
       "    }\n",
       "\n",
       "    .dataframe thead th {\n",
       "        text-align: right;\n",
       "    }\n",
       "</style>\n",
       "<table border=\"1\" class=\"dataframe\">\n",
       "  <thead>\n",
       "    <tr style=\"text-align: right;\">\n",
       "      <th></th>\n",
       "      <th>ret</th>\n",
       "      <th>mkt_excess</th>\n",
       "      <th>SMB</th>\n",
       "      <th>HML</th>\n",
       "      <th>var</th>\n",
       "    </tr>\n",
       "  </thead>\n",
       "  <tbody>\n",
       "    <tr>\n",
       "      <th>count</th>\n",
       "      <td>30236.000000</td>\n",
       "      <td>20172.000000</td>\n",
       "      <td>20172.000000</td>\n",
       "      <td>20172.000000</td>\n",
       "      <td>20.000000</td>\n",
       "    </tr>\n",
       "    <tr>\n",
       "      <th>mean</th>\n",
       "      <td>0.074904</td>\n",
       "      <td>0.023724</td>\n",
       "      <td>0.006889</td>\n",
       "      <td>0.017028</td>\n",
       "      <td>1.338848</td>\n",
       "    </tr>\n",
       "    <tr>\n",
       "      <th>std</th>\n",
       "      <td>2.221544</td>\n",
       "      <td>1.156874</td>\n",
       "      <td>0.587440</td>\n",
       "      <td>0.642751</td>\n",
       "      <td>1.431382</td>\n",
       "    </tr>\n",
       "    <tr>\n",
       "      <th>min</th>\n",
       "      <td>-51.869160</td>\n",
       "      <td>-8.950000</td>\n",
       "      <td>-4.180000</td>\n",
       "      <td>-4.390000</td>\n",
       "      <td>0.232199</td>\n",
       "    </tr>\n",
       "    <tr>\n",
       "      <th>25%</th>\n",
       "      <td>-0.980813</td>\n",
       "      <td>-0.480000</td>\n",
       "      <td>-0.330000</td>\n",
       "      <td>-0.260000</td>\n",
       "      <td>0.446636</td>\n",
       "    </tr>\n",
       "    <tr>\n",
       "      <th>50%</th>\n",
       "      <td>0.000000</td>\n",
       "      <td>0.060000</td>\n",
       "      <td>0.020000</td>\n",
       "      <td>0.000000</td>\n",
       "      <td>0.933522</td>\n",
       "    </tr>\n",
       "    <tr>\n",
       "      <th>75%</th>\n",
       "      <td>1.074159</td>\n",
       "      <td>0.550000</td>\n",
       "      <td>0.340000</td>\n",
       "      <td>0.270000</td>\n",
       "      <td>1.653194</td>\n",
       "    </tr>\n",
       "    <tr>\n",
       "      <th>max</th>\n",
       "      <td>33.227849</td>\n",
       "      <td>11.350000</td>\n",
       "      <td>4.490000</td>\n",
       "      <td>4.830000</td>\n",
       "      <td>6.343994</td>\n",
       "    </tr>\n",
       "  </tbody>\n",
       "</table>\n",
       "</div>"
      ],
      "text/plain": [
       "                ret    mkt_excess           SMB           HML        var\n",
       "count  30236.000000  20172.000000  20172.000000  20172.000000  20.000000\n",
       "mean       0.074904      0.023724      0.006889      0.017028   1.338848\n",
       "std        2.221544      1.156874      0.587440      0.642751   1.431382\n",
       "min      -51.869160     -8.950000     -4.180000     -4.390000   0.232199\n",
       "25%       -0.980813     -0.480000     -0.330000     -0.260000   0.446636\n",
       "50%        0.000000      0.060000      0.020000      0.000000   0.933522\n",
       "75%        1.074159      0.550000      0.340000      0.270000   1.653194\n",
       "max       33.227849     11.350000      4.490000      4.830000   6.343994"
      ]
     },
     "execution_count": 9,
     "metadata": {},
     "output_type": "execute_result"
    }
   ],
   "source": [
    "Merged = pd.merge(ff,crsp,how='right',on='date',indicator=True,validate='one_to_many')\n",
    "\n",
    "\n",
    "Merged['Years'] = Merged['date'].dt.year\n",
    "\n",
    "#option 1\n",
    "# opt_1 = Merged.groupby(['Years'])['mkt_excess'].var().reset_index()\n",
    "# Merged['var'] = opt_1['mkt_excess'] \n",
    "#mean var is 1.334860\n",
    "\n",
    "\n",
    "#option 2\n",
    "opt_2 = Merged.groupby(['date','Years'])['mkt_excess'].mean().reset_index()\n",
    "var_ann = opt_2.groupby(['Years'])['mkt_excess'].var().reset_index()\n",
    "Merged['var'] = var_ann['mkt_excess']\n",
    "#mean var is 1.338848 (I think this one makes more sense)\n",
    "\n",
    "\n",
    "\n",
    "\n",
    "Merged[['ret','mkt_excess','SMB','HML','var']].describe()"
   ]
  },
  {
   "cell_type": "code",
   "execution_count": 10,
   "metadata": {},
   "outputs": [],
   "source": [
    "#ff.iloc[2528:2580]"
   ]
  },
  {
   "cell_type": "markdown",
   "metadata": {},
   "source": [
    "## PART 3: Adding a new variable via merge\n",
    "\n",
    "Insert cell(s) below this one as needed to finish this Part.\n",
    "\n",
    "Imagine you're analyzing our CCM dataset. (The code to download the CCM data is on 3.2.5 of the website.) Add a variable call \"PatentStock\" from [here](https://github.com/LeDataSciFi/ledatascifi-2021/blob/main/data/two_pat_vars.csv) to it. (The sentences are enough to pick which \"how\" option to choose in the merge.)\n",
    "\n",
    "- Q10: `.describe()` the \"l_a\" and the \"PatentStock\" variables after the merge. \n",
    "- Q11: Tabulate the _merge variable. \n",
    "\n",
    "HINT: As you've seen several times before, pandas can download a csv file with just a URL. The \"hitch\" here is that I'm not giving you the URL. "
   ]
  },
  {
   "cell_type": "code",
   "execution_count": 11,
   "metadata": {},
   "outputs": [],
   "source": [
    "# these three are used to download the file\n",
    "from io import BytesIO\n",
    "from zipfile import ZipFile\n",
    "from urllib.request import urlopen"
   ]
  },
  {
   "cell_type": "code",
   "execution_count": 12,
   "metadata": {},
   "outputs": [],
   "source": [
    "url = 'https://github.com/LeDataSciFi/ledatascifi-2021/blob/main/data/CCM_cleaned_for_class.zip?raw=true'\n",
    "\n",
    "with urlopen(url) as request:\n",
    "    data = BytesIO(request.read())\n",
    "\n",
    "with ZipFile(data) as archive:\n",
    "    with archive.open(archive.namelist()[0]) as stata:\n",
    "        ccm = pd.read_stata(stata)\n",
    "        \n",
    "#ccm"
   ]
  },
  {
   "cell_type": "code",
   "execution_count": 13,
   "metadata": {},
   "outputs": [],
   "source": [
    "url_2 = 'https://raw.githubusercontent.com/LeDataSciFi/ledatascifi-2021/main/data/two_pat_vars.csv'\n",
    "Patent = pd.read_csv(url_2)\n",
    "#Patent"
   ]
  },
  {
   "cell_type": "code",
   "execution_count": 14,
   "metadata": {},
   "outputs": [
    {
     "data": {
      "text/html": [
       "<div>\n",
       "<style scoped>\n",
       "    .dataframe tbody tr th:only-of-type {\n",
       "        vertical-align: middle;\n",
       "    }\n",
       "\n",
       "    .dataframe tbody tr th {\n",
       "        vertical-align: top;\n",
       "    }\n",
       "\n",
       "    .dataframe thead th {\n",
       "        text-align: right;\n",
       "    }\n",
       "</style>\n",
       "<table border=\"1\" class=\"dataframe\">\n",
       "  <thead>\n",
       "    <tr style=\"text-align: right;\">\n",
       "      <th></th>\n",
       "      <th>l_a</th>\n",
       "      <th>PatentStock</th>\n",
       "    </tr>\n",
       "  </thead>\n",
       "  <tbody>\n",
       "    <tr>\n",
       "      <th>count</th>\n",
       "      <td>222978.000000</td>\n",
       "      <td>90523.000000</td>\n",
       "    </tr>\n",
       "    <tr>\n",
       "      <th>mean</th>\n",
       "      <td>5.226964</td>\n",
       "      <td>80.851256</td>\n",
       "    </tr>\n",
       "    <tr>\n",
       "      <th>std</th>\n",
       "      <td>2.408634</td>\n",
       "      <td>514.576731</td>\n",
       "    </tr>\n",
       "    <tr>\n",
       "      <th>min</th>\n",
       "      <td>-6.907755</td>\n",
       "      <td>0.000000</td>\n",
       "    </tr>\n",
       "    <tr>\n",
       "      <th>25%</th>\n",
       "      <td>3.476993</td>\n",
       "      <td>0.272491</td>\n",
       "    </tr>\n",
       "    <tr>\n",
       "      <th>50%</th>\n",
       "      <td>5.094452</td>\n",
       "      <td>2.722500</td>\n",
       "    </tr>\n",
       "    <tr>\n",
       "      <th>75%</th>\n",
       "      <td>6.864064</td>\n",
       "      <td>15.020925</td>\n",
       "    </tr>\n",
       "    <tr>\n",
       "      <th>max</th>\n",
       "      <td>15.142903</td>\n",
       "      <td>23890.555000</td>\n",
       "    </tr>\n",
       "  </tbody>\n",
       "</table>\n",
       "</div>"
      ],
      "text/plain": [
       "                 l_a   PatentStock\n",
       "count  222978.000000  90523.000000\n",
       "mean        5.226964     80.851256\n",
       "std         2.408634    514.576731\n",
       "min        -6.907755      0.000000\n",
       "25%         3.476993      0.272491\n",
       "50%         5.094452      2.722500\n",
       "75%         6.864064     15.020925\n",
       "max        15.142903  23890.555000"
      ]
     },
     "execution_count": 14,
     "metadata": {},
     "output_type": "execute_result"
    }
   ],
   "source": [
    "Mer = pd.merge(ccm,Patent,how='left',indicator=True)\n",
    "#Mer = pd.merge(ccm,Patent,how='left', on=['gvkey','fyear'],indicator=True)\n",
    "\n",
    "Mer[['l_a','PatentStock']].describe()"
   ]
  },
  {
   "cell_type": "code",
   "execution_count": 15,
   "metadata": {},
   "outputs": [
    {
     "data": {
      "text/plain": [
       "both          172315\n",
       "left_only      50686\n",
       "right_only         0\n",
       "Name: _merge, dtype: int64"
      ]
     },
     "execution_count": 15,
     "metadata": {},
     "output_type": "execute_result"
    }
   ],
   "source": [
    "Mer['_merge'].value_counts()"
   ]
  }
 ],
 "metadata": {
  "kernelspec": {
   "display_name": "Python 3",
   "language": "python",
   "name": "python3"
  },
  "language_info": {
   "codemirror_mode": {
    "name": "ipython",
    "version": 3
   },
   "file_extension": ".py",
   "mimetype": "text/x-python",
   "name": "python",
   "nbconvert_exporter": "python",
   "pygments_lexer": "ipython3",
   "version": "3.7.9"
  }
 },
 "nbformat": 4,
 "nbformat_minor": 4
}
